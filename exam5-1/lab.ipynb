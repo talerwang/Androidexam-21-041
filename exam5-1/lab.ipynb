{
 "cells": [
  {
   "cell_type": "code",
   "execution_count": 7,
   "metadata": {},
   "outputs": [
    {
     "name": "stdout",
     "output_type": "stream",
     "text": [
      "Requirement already satisfied: tflite-model-maker in /home/codespace/.local/lib/python3.8/site-packages (0.4.3)\n",
      "Requirement already satisfied: tf-models-official==2.3.0 in /home/codespace/.local/lib/python3.8/site-packages (from tflite-model-maker) (2.3.0)\n",
      "Requirement already satisfied: numpy<1.23.4,>=1.17.3 in /home/codespace/.local/lib/python3.8/site-packages (from tflite-model-maker) (1.23.3)\n",
      "Requirement already satisfied: pillow>=7.0.0 in /home/codespace/.local/lib/python3.8/site-packages (from tflite-model-maker) (10.3.0)\n",
      "Requirement already satisfied: sentencepiece>=0.1.91 in /home/codespace/.local/lib/python3.8/site-packages (from tflite-model-maker) (0.2.0)\n",
      "Requirement already satisfied: tensorflow-datasets>=2.1.0 in /workspaces/Androidexam-21-041/.conda/lib/python3.8/site-packages (from tflite-model-maker) (4.9.0)\n",
      "Requirement already satisfied: fire>=0.3.1 in /home/codespace/.local/lib/python3.8/site-packages (from tflite-model-maker) (0.6.0)\n",
      "Requirement already satisfied: flatbuffers>=2.0 in /home/codespace/.local/lib/python3.8/site-packages (from tflite-model-maker) (24.3.25)\n",
      "Requirement already satisfied: absl-py>=0.10.0 in /workspaces/Androidexam-21-041/.conda/lib/python3.8/site-packages (from tflite-model-maker) (1.4.0)\n",
      "Requirement already satisfied: urllib3!=1.25.0,!=1.25.1,<1.26,>=1.21.1 in /workspaces/Androidexam-21-041/.conda/lib/python3.8/site-packages (from tflite-model-maker) (1.25.11)\n",
      "Requirement already satisfied: tflite-support>=0.4.2 in /home/codespace/.local/lib/python3.8/site-packages (from tflite-model-maker) (0.4.3)\n",
      "Requirement already satisfied: tensorflowjs<3.19.0,>=2.4.0 in /home/codespace/.local/lib/python3.8/site-packages (from tflite-model-maker) (3.18.0)\n",
      "Requirement already satisfied: tensorflow>=2.6.0 in /workspaces/Androidexam-21-041/.conda/lib/python3.8/site-packages (from tflite-model-maker) (2.8.4)\n",
      "Requirement already satisfied: numba>=0.53 in /home/codespace/.local/lib/python3.8/site-packages (from tflite-model-maker) (0.58.1)\n",
      "Requirement already satisfied: librosa==0.8.1 in /home/codespace/.local/lib/python3.8/site-packages (from tflite-model-maker) (0.8.1)\n",
      "Requirement already satisfied: lxml>=4.6.1 in /home/codespace/.local/lib/python3.8/site-packages (from tflite-model-maker) (5.2.2)\n",
      "Requirement already satisfied: PyYAML>=5.1 in /workspaces/Androidexam-21-041/.conda/lib/python3.8/site-packages (from tflite-model-maker) (6.0.1)\n",
      "Requirement already satisfied: matplotlib<3.5.0,>=3.0.3 in /home/codespace/.local/lib/python3.8/site-packages (from tflite-model-maker) (3.4.3)\n",
      "Requirement already satisfied: six>=1.12.0 in /workspaces/Androidexam-21-041/.conda/lib/python3.8/site-packages (from tflite-model-maker) (1.16.0)\n",
      "Requirement already satisfied: tensorflow-addons>=0.11.2 in /home/codespace/.local/lib/python3.8/site-packages (from tflite-model-maker) (0.21.0)\n",
      "Requirement already satisfied: neural-structured-learning>=1.3.1 in /home/codespace/.local/lib/python3.8/site-packages (from tflite-model-maker) (1.4.0)\n",
      "Requirement already satisfied: tensorflow-model-optimization>=0.5 in /home/codespace/.local/lib/python3.8/site-packages (from tflite-model-maker) (0.8.0)\n",
      "Requirement already satisfied: Cython>=0.29.13 in /home/codespace/.local/lib/python3.8/site-packages (from tflite-model-maker) (3.0.10)\n",
      "Requirement already satisfied: scann==1.2.6 in /home/codespace/.local/lib/python3.8/site-packages (from tflite-model-maker) (1.2.6)\n",
      "Requirement already satisfied: tensorflow-hub<0.13,>=0.7.0 in /home/codespace/.local/lib/python3.8/site-packages (from tflite-model-maker) (0.12.0)\n",
      "Requirement already satisfied: audioread>=2.0.0 in /home/codespace/.local/lib/python3.8/site-packages (from librosa==0.8.1->tflite-model-maker) (3.0.1)\n",
      "Requirement already satisfied: scipy>=1.0.0 in /home/codespace/.local/lib/python3.8/site-packages (from librosa==0.8.1->tflite-model-maker) (1.10.1)\n",
      "Requirement already satisfied: scikit-learn!=0.19.0,>=0.14.0 in /home/codespace/.local/lib/python3.8/site-packages (from librosa==0.8.1->tflite-model-maker) (1.3.2)\n",
      "Requirement already satisfied: joblib>=0.14 in /home/codespace/.local/lib/python3.8/site-packages (from librosa==0.8.1->tflite-model-maker) (1.4.2)\n",
      "Requirement already satisfied: decorator>=3.0.0 in /home/codespace/.local/lib/python3.8/site-packages (from librosa==0.8.1->tflite-model-maker) (5.1.1)\n",
      "Requirement already satisfied: resampy>=0.2.2 in /home/codespace/.local/lib/python3.8/site-packages (from librosa==0.8.1->tflite-model-maker) (0.4.3)\n",
      "Requirement already satisfied: soundfile>=0.10.2 in /home/codespace/.local/lib/python3.8/site-packages (from librosa==0.8.1->tflite-model-maker) (0.12.1)\n",
      "Requirement already satisfied: pooch>=1.0 in /home/codespace/.local/lib/python3.8/site-packages (from librosa==0.8.1->tflite-model-maker) (1.8.1)\n",
      "Requirement already satisfied: packaging>=20.0 in /workspaces/Androidexam-21-041/.conda/lib/python3.8/site-packages (from librosa==0.8.1->tflite-model-maker) (20.9)\n",
      "Requirement already satisfied: dataclasses in /home/codespace/.local/lib/python3.8/site-packages (from tf-models-official==2.3.0->tflite-model-maker) (0.6)\n",
      "Requirement already satisfied: gin-config in /home/codespace/.local/lib/python3.8/site-packages (from tf-models-official==2.3.0->tflite-model-maker) (0.5.0)\n",
      "Requirement already satisfied: google-api-python-client>=1.6.7 in /home/codespace/.local/lib/python3.8/site-packages (from tf-models-official==2.3.0->tflite-model-maker) (2.131.0)\n",
      "Requirement already satisfied: google-cloud-bigquery>=0.31.0 in /home/codespace/.local/lib/python3.8/site-packages (from tf-models-official==2.3.0->tflite-model-maker) (3.23.1)\n",
      "Requirement already satisfied: kaggle>=1.3.9 in /home/codespace/.local/lib/python3.8/site-packages (from tf-models-official==2.3.0->tflite-model-maker) (1.6.14)\n",
      "Requirement already satisfied: opencv-python-headless in /home/codespace/.local/lib/python3.8/site-packages (from tf-models-official==2.3.0->tflite-model-maker) (4.9.0.80)\n",
      "Requirement already satisfied: pandas>=0.22.0 in /home/codespace/.local/lib/python3.8/site-packages (from tf-models-official==2.3.0->tflite-model-maker) (2.0.3)\n",
      "Requirement already satisfied: psutil>=5.4.3 in /home/codespace/.local/lib/python3.8/site-packages (from tf-models-official==2.3.0->tflite-model-maker) (5.9.8)\n",
      "Requirement already satisfied: py-cpuinfo>=3.3.0 in /home/codespace/.local/lib/python3.8/site-packages (from tf-models-official==2.3.0->tflite-model-maker) (9.0.0)\n",
      "Requirement already satisfied: tf-slim>=1.1.0 in /home/codespace/.local/lib/python3.8/site-packages (from tf-models-official==2.3.0->tflite-model-maker) (1.1.0)\n",
      "Requirement already satisfied: termcolor in /home/codespace/.local/lib/python3.8/site-packages (from fire>=0.3.1->tflite-model-maker) (2.4.0)\n",
      "Requirement already satisfied: cycler>=0.10 in /home/codespace/.local/lib/python3.8/site-packages (from matplotlib<3.5.0,>=3.0.3->tflite-model-maker) (0.12.1)\n",
      "Requirement already satisfied: kiwisolver>=1.0.1 in /home/codespace/.local/lib/python3.8/site-packages (from matplotlib<3.5.0,>=3.0.3->tflite-model-maker) (1.4.5)\n",
      "Requirement already satisfied: pyparsing>=2.2.1 in /home/codespace/.local/lib/python3.8/site-packages (from matplotlib<3.5.0,>=3.0.3->tflite-model-maker) (3.1.2)\n",
      "Requirement already satisfied: python-dateutil>=2.7 in /home/codespace/.local/lib/python3.8/site-packages (from matplotlib<3.5.0,>=3.0.3->tflite-model-maker) (2.9.0.post0)\n",
      "Requirement already satisfied: attrs in /home/codespace/.local/lib/python3.8/site-packages (from neural-structured-learning>=1.3.1->tflite-model-maker) (23.2.0)\n",
      "Requirement already satisfied: llvmlite<0.42,>=0.41.0dev0 in /home/codespace/.local/lib/python3.8/site-packages (from numba>=0.53->tflite-model-maker) (0.41.1)\n",
      "Requirement already satisfied: importlib-metadata in /home/codespace/.local/lib/python3.8/site-packages (from numba>=0.53->tflite-model-maker) (7.1.0)\n",
      "Requirement already satisfied: astunparse>=1.6.0 in /home/codespace/.local/lib/python3.8/site-packages (from tensorflow>=2.6.0->tflite-model-maker) (1.6.3)\n",
      "Requirement already satisfied: gast>=0.2.1 in /home/codespace/.local/lib/python3.8/site-packages (from tensorflow>=2.6.0->tflite-model-maker) (0.4.0)\n",
      "Requirement already satisfied: google-pasta>=0.1.1 in /home/codespace/.local/lib/python3.8/site-packages (from tensorflow>=2.6.0->tflite-model-maker) (0.2.0)\n",
      "Requirement already satisfied: h5py>=2.9.0 in /home/codespace/.local/lib/python3.8/site-packages (from tensorflow>=2.6.0->tflite-model-maker) (3.11.0)\n",
      "Requirement already satisfied: keras-preprocessing>=1.1.1 in /workspaces/Androidexam-21-041/.conda/lib/python3.8/site-packages (from tensorflow>=2.6.0->tflite-model-maker) (1.1.2)\n",
      "Requirement already satisfied: libclang>=9.0.1 in /home/codespace/.local/lib/python3.8/site-packages (from tensorflow>=2.6.0->tflite-model-maker) (18.1.1)\n",
      "Requirement already satisfied: opt-einsum>=2.3.2 in /home/codespace/.local/lib/python3.8/site-packages (from tensorflow>=2.6.0->tflite-model-maker) (3.3.0)\n",
      "Requirement already satisfied: protobuf<3.20,>=3.9.2 in /workspaces/Androidexam-21-041/.conda/lib/python3.8/site-packages (from tensorflow>=2.6.0->tflite-model-maker) (3.19.6)\n",
      "Requirement already satisfied: setuptools in /workspaces/Androidexam-21-041/.conda/lib/python3.8/site-packages (from tensorflow>=2.6.0->tflite-model-maker) (69.5.1)\n",
      "Requirement already satisfied: typing-extensions>=3.6.6 in /home/codespace/.local/lib/python3.8/site-packages (from tensorflow>=2.6.0->tflite-model-maker) (4.5.0)\n",
      "Requirement already satisfied: wrapt>=1.11.0 in /home/codespace/.local/lib/python3.8/site-packages (from tensorflow>=2.6.0->tflite-model-maker) (1.16.0)\n",
      "Requirement already satisfied: tensorboard<2.9,>=2.8 in /workspaces/Androidexam-21-041/.conda/lib/python3.8/site-packages (from tensorflow>=2.6.0->tflite-model-maker) (2.8.0)\n",
      "Requirement already satisfied: tensorflow-estimator<2.9,>=2.8 in /workspaces/Androidexam-21-041/.conda/lib/python3.8/site-packages (from tensorflow>=2.6.0->tflite-model-maker) (2.8.0)\n",
      "Requirement already satisfied: keras<2.9,>=2.8.0rc0 in /workspaces/Androidexam-21-041/.conda/lib/python3.8/site-packages (from tensorflow>=2.6.0->tflite-model-maker) (2.8.0)\n",
      "Requirement already satisfied: tensorflow-io-gcs-filesystem>=0.23.1 in /home/codespace/.local/lib/python3.8/site-packages (from tensorflow>=2.6.0->tflite-model-maker) (0.34.0)\n",
      "Requirement already satisfied: grpcio<2.0,>=1.24.3 in /home/codespace/.local/lib/python3.8/site-packages (from tensorflow>=2.6.0->tflite-model-maker) (1.64.0)\n",
      "Requirement already satisfied: typeguard<3.0.0,>=2.7 in /home/codespace/.local/lib/python3.8/site-packages (from tensorflow-addons>=0.11.2->tflite-model-maker) (2.13.3)\n",
      "Requirement already satisfied: array-record in /home/codespace/.local/lib/python3.8/site-packages (from tensorflow-datasets>=2.1.0->tflite-model-maker) (0.4.0)\n",
      "Requirement already satisfied: click in /home/codespace/.local/lib/python3.8/site-packages (from tensorflow-datasets>=2.1.0->tflite-model-maker) (8.1.7)\n",
      "Requirement already satisfied: dm-tree in /home/codespace/.local/lib/python3.8/site-packages (from tensorflow-datasets>=2.1.0->tflite-model-maker) (0.1.8)\n",
      "Requirement already satisfied: etils>=0.9.0 in /home/codespace/.local/lib/python3.8/site-packages (from etils[enp,epath]>=0.9.0->tensorflow-datasets>=2.1.0->tflite-model-maker) (1.3.0)\n",
      "Requirement already satisfied: promise in /home/codespace/.local/lib/python3.8/site-packages (from tensorflow-datasets>=2.1.0->tflite-model-maker) (2.3)\n",
      "Requirement already satisfied: requests>=2.19.0 in /workspaces/Androidexam-21-041/.conda/lib/python3.8/site-packages (from tensorflow-datasets>=2.1.0->tflite-model-maker) (2.32.3)\n",
      "Requirement already satisfied: tensorflow-metadata in /workspaces/Androidexam-21-041/.conda/lib/python3.8/site-packages (from tensorflow-datasets>=2.1.0->tflite-model-maker) (1.13.0)\n",
      "Requirement already satisfied: toml in /home/codespace/.local/lib/python3.8/site-packages (from tensorflow-datasets>=2.1.0->tflite-model-maker) (0.10.2)\n",
      "Requirement already satisfied: tqdm in /home/codespace/.local/lib/python3.8/site-packages (from tensorflow-datasets>=2.1.0->tflite-model-maker) (4.66.4)\n",
      "Requirement already satisfied: importlib-resources in /home/codespace/.local/lib/python3.8/site-packages (from tensorflow-datasets>=2.1.0->tflite-model-maker) (6.4.0)\n",
      "Requirement already satisfied: sounddevice>=0.4.4 in /home/codespace/.local/lib/python3.8/site-packages (from tflite-support>=0.4.2->tflite-model-maker) (0.4.7)\n",
      "Requirement already satisfied: pybind11>=2.6.0 in /home/codespace/.local/lib/python3.8/site-packages (from tflite-support>=0.4.2->tflite-model-maker) (2.12.0)\n",
      "Requirement already satisfied: wheel<1.0,>=0.23.0 in /workspaces/Androidexam-21-041/.conda/lib/python3.8/site-packages (from astunparse>=1.6.0->tensorflow>=2.6.0->tflite-model-maker) (0.43.0)\n",
      "Requirement already satisfied: zipp in /home/codespace/.local/lib/python3.8/site-packages (from etils[enp,epath]>=0.9.0->tensorflow-datasets>=2.1.0->tflite-model-maker) (3.19.0)\n",
      "Requirement already satisfied: httplib2<1.dev0,>=0.19.0 in /home/codespace/.local/lib/python3.8/site-packages (from google-api-python-client>=1.6.7->tf-models-official==2.3.0->tflite-model-maker) (0.22.0)\n",
      "Requirement already satisfied: google-auth!=2.24.0,!=2.25.0,<3.0.0.dev0,>=1.32.0 in /home/codespace/.local/lib/python3.8/site-packages (from google-api-python-client>=1.6.7->tf-models-official==2.3.0->tflite-model-maker) (2.29.0)\n",
      "Requirement already satisfied: google-auth-httplib2<1.0.0,>=0.2.0 in /home/codespace/.local/lib/python3.8/site-packages (from google-api-python-client>=1.6.7->tf-models-official==2.3.0->tflite-model-maker) (0.2.0)\n",
      "Requirement already satisfied: google-api-core!=2.0.*,!=2.1.*,!=2.2.*,!=2.3.0,<3.0.0.dev0,>=1.31.5 in /home/codespace/.local/lib/python3.8/site-packages (from google-api-python-client>=1.6.7->tf-models-official==2.3.0->tflite-model-maker) (2.19.0)\n",
      "Requirement already satisfied: uritemplate<5,>=3.0.1 in /home/codespace/.local/lib/python3.8/site-packages (from google-api-python-client>=1.6.7->tf-models-official==2.3.0->tflite-model-maker) (4.1.1)\n",
      "Requirement already satisfied: google-cloud-core<3.0.0dev,>=1.6.0 in /home/codespace/.local/lib/python3.8/site-packages (from google-cloud-bigquery>=0.31.0->tf-models-official==2.3.0->tflite-model-maker) (2.4.1)\n",
      "Requirement already satisfied: google-resumable-media<3.0dev,>=0.6.0 in /home/codespace/.local/lib/python3.8/site-packages (from google-cloud-bigquery>=0.31.0->tf-models-official==2.3.0->tflite-model-maker) (2.7.0)\n",
      "Requirement already satisfied: bleach in /home/codespace/.local/lib/python3.8/site-packages (from kaggle>=1.3.9->tf-models-official==2.3.0->tflite-model-maker) (6.1.0)\n",
      "Requirement already satisfied: certifi>=2023.7.22 in /home/codespace/.local/lib/python3.8/site-packages (from kaggle>=1.3.9->tf-models-official==2.3.0->tflite-model-maker) (2024.2.2)\n",
      "Requirement already satisfied: python-slugify in /home/codespace/.local/lib/python3.8/site-packages (from kaggle>=1.3.9->tf-models-official==2.3.0->tflite-model-maker) (8.0.4)\n",
      "Requirement already satisfied: pytz>=2020.1 in /home/codespace/.local/lib/python3.8/site-packages (from pandas>=0.22.0->tf-models-official==2.3.0->tflite-model-maker) (2024.1)\n",
      "Requirement already satisfied: tzdata>=2022.1 in /home/codespace/.local/lib/python3.8/site-packages (from pandas>=0.22.0->tf-models-official==2.3.0->tflite-model-maker) (2024.1)\n",
      "Requirement already satisfied: platformdirs>=2.5.0 in /home/codespace/.local/lib/python3.8/site-packages (from pooch>=1.0->librosa==0.8.1->tflite-model-maker) (4.2.2)\n",
      "Requirement already satisfied: charset-normalizer<4,>=2 in /workspaces/Androidexam-21-041/.conda/lib/python3.8/site-packages (from requests>=2.19.0->tensorflow-datasets>=2.1.0->tflite-model-maker) (3.3.2)\n",
      "Requirement already satisfied: idna<4,>=2.5 in /workspaces/Androidexam-21-041/.conda/lib/python3.8/site-packages (from requests>=2.19.0->tensorflow-datasets>=2.1.0->tflite-model-maker) (3.7)\n",
      "Requirement already satisfied: threadpoolctl>=2.0.0 in /home/codespace/.local/lib/python3.8/site-packages (from scikit-learn!=0.19.0,>=0.14.0->librosa==0.8.1->tflite-model-maker) (3.5.0)\n",
      "Requirement already satisfied: CFFI>=1.0 in /home/codespace/.local/lib/python3.8/site-packages (from sounddevice>=0.4.4->tflite-support>=0.4.2->tflite-model-maker) (1.16.0)\n",
      "Requirement already satisfied: google-auth-oauthlib<0.5,>=0.4.1 in /workspaces/Androidexam-21-041/.conda/lib/python3.8/site-packages (from tensorboard<2.9,>=2.8->tensorflow>=2.6.0->tflite-model-maker) (0.4.6)\n",
      "Requirement already satisfied: markdown>=2.6.8 in /home/codespace/.local/lib/python3.8/site-packages (from tensorboard<2.9,>=2.8->tensorflow>=2.6.0->tflite-model-maker) (3.6)\n",
      "Requirement already satisfied: tensorboard-data-server<0.7.0,>=0.6.0 in /workspaces/Androidexam-21-041/.conda/lib/python3.8/site-packages (from tensorboard<2.9,>=2.8->tensorflow>=2.6.0->tflite-model-maker) (0.6.1)\n",
      "Requirement already satisfied: tensorboard-plugin-wit>=1.6.0 in /workspaces/Androidexam-21-041/.conda/lib/python3.8/site-packages (from tensorboard<2.9,>=2.8->tensorflow>=2.6.0->tflite-model-maker) (1.8.1)\n",
      "Requirement already satisfied: werkzeug>=0.11.15 in /home/codespace/.local/lib/python3.8/site-packages (from tensorboard<2.9,>=2.8->tensorflow>=2.6.0->tflite-model-maker) (3.0.3)\n",
      "Requirement already satisfied: googleapis-common-protos<2,>=1.52.0 in /home/codespace/.local/lib/python3.8/site-packages (from tensorflow-metadata->tensorflow-datasets>=2.1.0->tflite-model-maker) (1.63.0)\n",
      "Requirement already satisfied: pycparser in /home/codespace/.local/lib/python3.8/site-packages (from CFFI>=1.0->sounddevice>=0.4.4->tflite-support>=0.4.2->tflite-model-maker) (2.22)\n",
      "Requirement already satisfied: proto-plus<2.0.0dev,>=1.22.3 in /home/codespace/.local/lib/python3.8/site-packages (from google-api-core!=2.0.*,!=2.1.*,!=2.2.*,!=2.3.0,<3.0.0.dev0,>=1.31.5->google-api-python-client>=1.6.7->tf-models-official==2.3.0->tflite-model-maker) (1.23.0)\n",
      "Requirement already satisfied: grpcio-status<2.0.dev0,>=1.33.2 in /workspaces/Androidexam-21-041/.conda/lib/python3.8/site-packages (from google-api-core[grpc]!=2.0.*,!=2.1.*,!=2.10.*,!=2.2.*,!=2.3.*,!=2.4.*,!=2.5.*,!=2.6.*,!=2.7.*,!=2.8.*,!=2.9.*,<3.0.0dev,>=1.34.1->google-cloud-bigquery>=0.31.0->tf-models-official==2.3.0->tflite-model-maker) (1.48.2)\n",
      "Requirement already satisfied: cachetools<6.0,>=2.0.0 in /home/codespace/.local/lib/python3.8/site-packages (from google-auth!=2.24.0,!=2.25.0,<3.0.0.dev0,>=1.32.0->google-api-python-client>=1.6.7->tf-models-official==2.3.0->tflite-model-maker) (5.3.3)\n",
      "Requirement already satisfied: pyasn1-modules>=0.2.1 in /home/codespace/.local/lib/python3.8/site-packages (from google-auth!=2.24.0,!=2.25.0,<3.0.0.dev0,>=1.32.0->google-api-python-client>=1.6.7->tf-models-official==2.3.0->tflite-model-maker) (0.4.0)\n",
      "Requirement already satisfied: rsa<5,>=3.1.4 in /home/codespace/.local/lib/python3.8/site-packages (from google-auth!=2.24.0,!=2.25.0,<3.0.0.dev0,>=1.32.0->google-api-python-client>=1.6.7->tf-models-official==2.3.0->tflite-model-maker) (4.9)\n",
      "Requirement already satisfied: requests-oauthlib>=0.7.0 in /home/codespace/.local/lib/python3.8/site-packages (from google-auth-oauthlib<0.5,>=0.4.1->tensorboard<2.9,>=2.8->tensorflow>=2.6.0->tflite-model-maker) (2.0.0)\n",
      "Requirement already satisfied: google-crc32c<2.0dev,>=1.0 in /home/codespace/.local/lib/python3.8/site-packages (from google-resumable-media<3.0dev,>=0.6.0->google-cloud-bigquery>=0.31.0->tf-models-official==2.3.0->tflite-model-maker) (1.5.0)\n",
      "Requirement already satisfied: MarkupSafe>=2.1.1 in /home/codespace/.local/lib/python3.8/site-packages (from werkzeug>=0.11.15->tensorboard<2.9,>=2.8->tensorflow>=2.6.0->tflite-model-maker) (2.1.5)\n",
      "Requirement already satisfied: webencodings in /home/codespace/.local/lib/python3.8/site-packages (from bleach->kaggle>=1.3.9->tf-models-official==2.3.0->tflite-model-maker) (0.5.1)\n",
      "Requirement already satisfied: text-unidecode>=1.3 in /home/codespace/.local/lib/python3.8/site-packages (from python-slugify->kaggle>=1.3.9->tf-models-official==2.3.0->tflite-model-maker) (1.3)\n",
      "Requirement already satisfied: pyasn1<0.7.0,>=0.4.6 in /home/codespace/.local/lib/python3.8/site-packages (from pyasn1-modules>=0.2.1->google-auth!=2.24.0,!=2.25.0,<3.0.0.dev0,>=1.32.0->google-api-python-client>=1.6.7->tf-models-official==2.3.0->tflite-model-maker) (0.6.0)\n",
      "Requirement already satisfied: oauthlib>=3.0.0 in /home/codespace/.local/lib/python3.8/site-packages (from requests-oauthlib>=0.7.0->google-auth-oauthlib<0.5,>=0.4.1->tensorboard<2.9,>=2.8->tensorflow>=2.6.0->tflite-model-maker) (3.2.2)\n"
     ]
    }
   ],
   "source": [
    "!pip install tflite-model-maker"
   ]
  },
  {
   "cell_type": "markdown",
   "metadata": {},
   "source": [
    "这里安装libusb-1.0-0并更新apt，不然会找不到import"
   ]
  },
  {
   "cell_type": "code",
   "execution_count": 3,
   "metadata": {},
   "outputs": [
    {
     "name": "stdout",
     "output_type": "stream",
     "text": [
      "Hit:1 https://dl.yarnpkg.com/debian stable InRelease\n",
      "Get:2 https://packages.microsoft.com/repos/microsoft-ubuntu-focal-prod focal InRelease [3632 B]\n",
      "Hit:3 https://repo.anaconda.com/pkgs/misc/debrepo/conda stable InRelease       \n",
      "Hit:4 http://security.ubuntu.com/ubuntu focal-security InRelease    \n",
      "Hit:5 http://archive.ubuntu.com/ubuntu focal InRelease\n",
      "Hit:6 http://archive.ubuntu.com/ubuntu focal-updates InRelease\n",
      "Hit:7 http://archive.ubuntu.com/ubuntu focal-backports InRelease       \n",
      "Hit:8 https://packagecloud.io/github/git-lfs/ubuntu focal InRelease    \n",
      "Fetched 3632 B in 1s (3201 B/s)\n",
      "Reading package lists... Done\n"
     ]
    }
   ],
   "source": [
    "!sudo apt-get update"
   ]
  },
  {
   "cell_type": "code",
   "execution_count": 4,
   "metadata": {},
   "outputs": [
    {
     "name": "stdout",
     "output_type": "stream",
     "text": [
      "Reading package lists... 4%\r"
     ]
    },
    {
     "name": "stdout",
     "output_type": "stream",
     "text": [
      "Reading package lists... Done\n",
      "Building dependency tree       \n",
      "Reading state information... Done\n",
      "libusb-1.0-0 is already the newest version (2:1.0.23-2build1).\n",
      "0 upgraded, 0 newly installed, 0 to remove and 28 not upgraded.\n"
     ]
    }
   ],
   "source": [
    "!sudo apt-get install libusb-1.0-0"
   ]
  },
  {
   "cell_type": "markdown",
   "metadata": {},
   "source": [
    "导入库："
   ]
  },
  {
   "cell_type": "code",
   "execution_count": 1,
   "metadata": {},
   "outputs": [
    {
     "name": "stderr",
     "output_type": "stream",
     "text": [
      "2024-05-31 08:53:11.914052: W tensorflow/stream_executor/platform/default/dso_loader.cc:64] Could not load dynamic library 'libcudart.so.11.0'; dlerror: libcudart.so.11.0: cannot open shared object file: No such file or directory\n",
      "2024-05-31 08:53:11.914088: I tensorflow/stream_executor/cuda/cudart_stub.cc:29] Ignore above cudart dlerror if you do not have a GPU set up on your machine.\n",
      "/home/codespace/.local/lib/python3.8/site-packages/tensorflow_addons/utils/tfa_eol_msg.py:23: UserWarning: \n",
      "\n",
      "TensorFlow Addons (TFA) has ended development and introduction of new features.\n",
      "TFA has entered a minimal maintenance and release mode until a planned end of life in May 2024.\n",
      "Please modify downstream libraries to take dependencies from other repositories in our TensorFlow community (e.g. Keras, Keras-CV, and Keras-NLP). \n",
      "\n",
      "For more information see: https://github.com/tensorflow/addons/issues/2807 \n",
      "\n",
      "  warnings.warn(\n",
      "/home/codespace/.local/lib/python3.8/site-packages/tensorflow_addons/utils/ensure_tf_install.py:53: UserWarning: Tensorflow Addons supports using Python ops for all Tensorflow versions above or equal to 2.11.0 and strictly below 2.14.0 (nightly versions are not supported). \n",
      " The versions of TensorFlow you are currently using is 2.8.4 and is not supported. \n",
      "Some things might work, some things might not.\n",
      "If you were to encounter a bug, do not file an issue.\n",
      "If you want to make sure you're using a tested and supported configuration, either change the TensorFlow version or the TensorFlow Addons's version. \n",
      "You can find the compatibility matrix in TensorFlow Addon's readme:\n",
      "https://github.com/tensorflow/addons\n",
      "  warnings.warn(\n",
      "/home/codespace/.local/lib/python3.8/site-packages/tqdm/auto.py:21: TqdmWarning: IProgress not found. Please update jupyter and ipywidgets. See https://ipywidgets.readthedocs.io/en/stable/user_install.html\n",
      "  from .autonotebook import tqdm as notebook_tqdm\n"
     ]
    }
   ],
   "source": [
    "import os\n",
    "\n",
    "import numpy as np\n",
    "\n",
    "import tensorflow as tf\n",
    "assert tf.__version__.startswith('2')\n",
    "\n",
    "from tflite_model_maker import model_spec\n",
    "from tflite_model_maker import image_classifier\n",
    "from tflite_model_maker.config import ExportFormat\n",
    "from tflite_model_maker.config import QuantizationConfig\n",
    "from tflite_model_maker.image_classifier import DataLoader\n",
    "\n",
    "import matplotlib.pyplot as plt\n",
    "\n"
   ]
  },
  {
   "cell_type": "markdown",
   "metadata": {},
   "source": [
    "加载数据集"
   ]
  },
  {
   "cell_type": "code",
   "execution_count": 2,
   "metadata": {},
   "outputs": [
    {
     "name": "stdout",
     "output_type": "stream",
     "text": [
      "Downloading data from https://storage.googleapis.com/download.tensorflow.org/example_images/flower_photos.tgz\n",
      "228818944/228813984 [==============================] - 6s 0us/step\n",
      "228827136/228813984 [==============================] - 6s 0us/step\n"
     ]
    }
   ],
   "source": [
    "image_path = tf.keras.utils.get_file(\n",
    "      'flower_photos.tgz',\n",
    "      'https://storage.googleapis.com/download.tensorflow.org/example_images/flower_photos.tgz',\n",
    "      extract=True)\n",
    "image_path = os.path.join(os.path.dirname(image_path), 'flower_photos')\n"
   ]
  },
  {
   "cell_type": "code",
   "execution_count": 3,
   "metadata": {},
   "outputs": [
    {
     "name": "stderr",
     "output_type": "stream",
     "text": [
      "2024-05-31 08:53:53.754812: W tensorflow/stream_executor/platform/default/dso_loader.cc:64] Could not load dynamic library 'libcuda.so.1'; dlerror: libcuda.so.1: cannot open shared object file: No such file or directory; LD_LIBRARY_PATH: /home/codespace/.local/lib/python3.8/site-packages/cv2/../../lib64:\n",
      "2024-05-31 08:53:53.754851: W tensorflow/stream_executor/cuda/cuda_driver.cc:269] failed call to cuInit: UNKNOWN ERROR (303)\n",
      "2024-05-31 08:53:53.754879: I tensorflow/stream_executor/cuda/cuda_diagnostics.cc:156] kernel driver does not appear to be running on this host (codespaces-6a58ee): /proc/driver/nvidia/version does not exist\n",
      "2024-05-31 08:53:53.779982: I tensorflow/core/platform/cpu_feature_guard.cc:151] This TensorFlow binary is optimized with oneAPI Deep Neural Network Library (oneDNN) to use the following CPU instructions in performance-critical operations:  AVX2 FMA\n",
      "To enable them in other operations, rebuild TensorFlow with the appropriate compiler flags.\n"
     ]
    },
    {
     "name": "stdout",
     "output_type": "stream",
     "text": [
      "INFO:tensorflow:Load image with size: 3670, num_label: 5, labels: daisy, dandelion, roses, sunflowers, tulips.\n"
     ]
    }
   ],
   "source": [
    "data = DataLoader.from_folder(image_path)\n",
    "train_data, test_data = data.split(0.9)\n"
   ]
  },
  {
   "cell_type": "markdown",
   "metadata": {},
   "source": [
    "训练模型"
   ]
  },
  {
   "cell_type": "code",
   "execution_count": 4,
   "metadata": {},
   "outputs": [
    {
     "name": "stdout",
     "output_type": "stream",
     "text": [
      "INFO:tensorflow:Retraining the models...\n",
      "Model: \"sequential\"\n",
      "_________________________________________________________________\n",
      " Layer (type)                Output Shape              Param #   \n",
      "=================================================================\n",
      " hub_keras_layer_v1v2 (HubKe  (None, 1280)             3413024   \n",
      " rasLayerV1V2)                                                   \n",
      "                                                                 \n",
      " dropout (Dropout)           (None, 1280)              0         \n",
      "                                                                 \n",
      " dense (Dense)               (None, 5)                 6405      \n",
      "                                                                 \n",
      "=================================================================\n",
      "Total params: 3,419,429\n",
      "Trainable params: 6,405\n",
      "Non-trainable params: 3,413,024\n",
      "_________________________________________________________________\n",
      "None\n",
      "Epoch 1/5\n"
     ]
    },
    {
     "name": "stderr",
     "output_type": "stream",
     "text": [
      "2024-05-31 08:54:11.779505: W tensorflow/core/framework/cpu_allocator_impl.cc:82] Allocation of 51380224 exceeds 10% of free system memory.\n",
      "2024-05-31 08:54:12.121000: W tensorflow/core/framework/cpu_allocator_impl.cc:82] Allocation of 51380224 exceeds 10% of free system memory.\n",
      "2024-05-31 08:54:12.238054: W tensorflow/core/framework/cpu_allocator_impl.cc:82] Allocation of 51380224 exceeds 10% of free system memory.\n",
      "2024-05-31 08:54:12.330496: W tensorflow/core/framework/cpu_allocator_impl.cc:82] Allocation of 154140672 exceeds 10% of free system memory.\n",
      "2024-05-31 08:54:12.390513: W tensorflow/core/framework/cpu_allocator_impl.cc:82] Allocation of 38535168 exceeds 10% of free system memory.\n"
     ]
    },
    {
     "name": "stdout",
     "output_type": "stream",
     "text": [
      "103/103 [==============================] - 90s 853ms/step - loss: 0.8662 - accuracy: 0.7640\n",
      "Epoch 2/5\n",
      "103/103 [==============================] - 85s 827ms/step - loss: 0.6514 - accuracy: 0.8905\n",
      "Epoch 3/5\n",
      "103/103 [==============================] - 87s 836ms/step - loss: 0.6225 - accuracy: 0.9111\n",
      "Epoch 4/5\n",
      "103/103 [==============================] - 84s 815ms/step - loss: 0.6017 - accuracy: 0.9260\n",
      "Epoch 5/5\n",
      "103/103 [==============================] - 83s 803ms/step - loss: 0.5871 - accuracy: 0.9311\n"
     ]
    }
   ],
   "source": [
    "model = image_classifier.create(train_data)\n"
   ]
  },
  {
   "cell_type": "markdown",
   "metadata": {},
   "source": [
    "评估模型"
   ]
  },
  {
   "cell_type": "code",
   "execution_count": 6,
   "metadata": {},
   "outputs": [
    {
     "name": "stdout",
     "output_type": "stream",
     "text": [
      "12/12 [==============================] - 12s 782ms/step - loss: 0.6579 - accuracy: 0.8692\n"
     ]
    }
   ],
   "source": [
    "loss, accuracy = model.evaluate(test_data)\n"
   ]
  },
  {
   "cell_type": "markdown",
   "metadata": {},
   "source": [
    "保存模型"
   ]
  },
  {
   "cell_type": "code",
   "execution_count": 7,
   "metadata": {},
   "outputs": [
    {
     "name": "stderr",
     "output_type": "stream",
     "text": [
      "2024-05-31 09:04:22.108632: W tensorflow/python/util/util.cc:368] Sets are not currently considered sequences, but this may change in the future, so consider avoiding using them.\n"
     ]
    },
    {
     "name": "stdout",
     "output_type": "stream",
     "text": [
      "INFO:tensorflow:Assets written to: /tmp/tmpodg0d9oz/assets\n"
     ]
    },
    {
     "name": "stderr",
     "output_type": "stream",
     "text": [
      "INFO:tensorflow:Assets written to: /tmp/tmpodg0d9oz/assets\n",
      "2024-05-31 09:04:26.504547: I tensorflow/core/grappler/devices.cc:66] Number of eligible GPUs (core count >= 8, compute capability >= 0.0): 0\n",
      "2024-05-31 09:04:26.504709: I tensorflow/core/grappler/clusters/single_machine.cc:358] Starting new session\n",
      "2024-05-31 09:04:26.537698: I tensorflow/core/grappler/optimizers/meta_optimizer.cc:1164] Optimization results for grappler item: graph_to_optimize\n",
      "  function_optimizer: Graph size after: 913 nodes (656), 923 edges (664), time = 15.02ms.\n",
      "  function_optimizer: function_optimizer did nothing. time = 0.008ms.\n",
      "\n",
      "/workspaces/Androidexam-21-041/.conda/lib/python3.8/site-packages/tensorflow/lite/python/convert.py:746: UserWarning: Statistics for quantized inputs were expected, but not specified; continuing anyway.\n",
      "  warnings.warn(\"Statistics for quantized inputs were expected, but not \"\n",
      "2024-05-31 09:04:27.202141: W tensorflow/compiler/mlir/lite/python/tf_tfl_flatbuffer_helpers.cc:357] Ignored output_format.\n",
      "2024-05-31 09:04:27.202194: W tensorflow/compiler/mlir/lite/python/tf_tfl_flatbuffer_helpers.cc:360] Ignored drop_control_dependency.\n"
     ]
    },
    {
     "name": "stdout",
     "output_type": "stream",
     "text": [
      "INFO:tensorflow:Label file is inside the TFLite model with metadata.\n"
     ]
    },
    {
     "name": "stderr",
     "output_type": "stream",
     "text": [
      "fully_quantize: 0, inference_type: 6, input_inference_type: 3, output_inference_type: 3\n",
      "INFO:tensorflow:Label file is inside the TFLite model with metadata.\n"
     ]
    },
    {
     "name": "stdout",
     "output_type": "stream",
     "text": [
      "INFO:tensorflow:Saving labels in /tmp/tmpbuqah33k/labels.txt\n"
     ]
    },
    {
     "name": "stderr",
     "output_type": "stream",
     "text": [
      "INFO:tensorflow:Saving labels in /tmp/tmpbuqah33k/labels.txt\n"
     ]
    },
    {
     "name": "stdout",
     "output_type": "stream",
     "text": [
      "INFO:tensorflow:TensorFlow Lite model exported successfully: ./model.tflite\n"
     ]
    },
    {
     "name": "stderr",
     "output_type": "stream",
     "text": [
      "INFO:tensorflow:TensorFlow Lite model exported successfully: ./model.tflite\n"
     ]
    }
   ],
   "source": [
    "model.export(export_dir='.')\n"
   ]
  }
 ],
 "metadata": {
  "kernelspec": {
   "display_name": "Python 3",
   "language": "python",
   "name": "python3"
  },
  "language_info": {
   "codemirror_mode": {
    "name": "ipython",
    "version": 3
   },
   "file_extension": ".py",
   "mimetype": "text/x-python",
   "name": "python",
   "nbconvert_exporter": "python",
   "pygments_lexer": "ipython3",
   "version": "3.8.19"
  }
 },
 "nbformat": 4,
 "nbformat_minor": 2
}
